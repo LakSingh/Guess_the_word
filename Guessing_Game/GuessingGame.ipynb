import random
def choose():
    words=["ocean","earth","muscle","floor","truck","microphone","speaker","googles","human","jeans","guess"]
    pick=random.choice(words)
    return pick
def jumble(word):
    jumbled=" ".join(random.sample(word,len(word)))
    return jumbled
def thank(p1,p2,pp1,pp2):
    print(p1,", Your score is ",pp1)
    print(p2,", Your score is ",pp2)
    if pp1>pp2:
        print(p1,",you win!")
    else:
        if(pp1==pp2):
            print("It's a tie.")
        else:
            print(p2,",you win!")
    print("Thanks for playing!!")
    print("Have a nice day!!!!")
def play():
    p1name=input("Player1 Name: ")
    p2name=input("Player2 Name: ")
    pp1=0
    pp2=0
    turn=0
    while(1):
        picked_word=choose()
        qn=jumble(picked_word)
        print(qn)
        if(turn%2==0):
            print(p1name,",your turn!!")
            ans=input("What's on your mind?")
            if ans==picked_word:
                pp1=pp1+1
                print("Your score is", pp1)
                turn=turn+1
            else:
                print("Better luck next time, I thought", picked_word)
                c=input("Press 1 to continue and 0 to exit: ")
                if(c=="0"):
                    thank(p1name,p2name,pp1,pp2)
                    break;
                else:
                    turn=turn+1
        else:
            print(p2name,",your turn!!")
            ans=input("What's on your mind? ")
            if ans==picked_word:
                pp2=pp2+1
                print("Your score is", pp2)
                turn=turn+1
            else:
                print("Better luck next time, i thought", picked_word)
                c=input("Press 1 to continue and 0 to exit: ")
                if(c=="0"):
                    thank(p1name,p2name,pp1,pp2)
                    break;
                else:
                    turn=turn+1
